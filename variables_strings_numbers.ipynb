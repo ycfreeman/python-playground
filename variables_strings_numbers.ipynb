{
 "nbformat": 4,
 "nbformat_minor": 2,
 "metadata": {
  "language_info": {
   "name": "python",
   "codemirror_mode": {
    "name": "ipython",
    "version": 3
   },
   "version": "3.7.6-final"
  },
  "orig_nbformat": 2,
  "file_extension": ".py",
  "mimetype": "text/x-python",
  "name": "python",
  "npconvert_exporter": "python",
  "pygments_lexer": "ipython3",
  "version": 3,
  "kernelspec": {
   "name": "python3",
   "display_name": "Python 3"
  }
 },
 "cells": [
  {
   "cell_type": "code",
   "execution_count": 1,
   "metadata": {},
   "outputs": [
    {
     "output_type": "stream",
     "name": "stdout",
     "text": "There once was a man named Tom\nhe was 50 years\nhe really liked the name Mike\nbut he doesn't like being 50\n"
    }
   ],
   "source": [
    "character_name = \"Tom\" # variable assignment\n",
    "character_age = 50.1\n",
    "is_male = False\n",
    "print(\"There once was a man named \" + character_name)\n",
    "print(\"he was \" + str(round(character_age)) + \" years\") # type conversion\n",
    "character_name = \"Mike\" # new assignment to existing variable\n",
    "print(\"he really liked the name \" + character_name)\n",
    "print(\"but he doesn't like being \" + str(round(character_age)))"
   ]
  },
  {
   "cell_type": "code",
   "execution_count": 8,
   "metadata": {},
   "outputs": [
    {
     "output_type": "stream",
     "name": "stdout",
     "text": "GIRAFFE\nTrue\n"
    }
   ],
   "source": [
    "a  = \"Giraffe\"\n",
    "b = a.upper()\n",
    "print(b)\n",
    "print(b.isupper())"
   ]
  },
  {
   "cell_type": "code",
   "execution_count": 10,
   "metadata": {},
   "outputs": [
    {
     "output_type": "stream",
     "name": "stdout",
     "text": "2\n1\n6\n2.0\n1\n8\n8\n1\n3\n12\n"
    }
   ],
   "source": [
    "a = 1\n",
    "print(1+1)\n",
    "print(2-1)\n",
    "print(3*2)\n",
    "print(4/2)\n",
    "print(10%3)\n",
    "print(pow(2,3))\n",
    "print(2**3) # pow(2,3)\n",
    "print(min(1,2,3))\n",
    "print(max(1,2,3))\n",
    "print(round(12.1234))"
   ]
  },
  {
   "cell_type": "code",
   "execution_count": 17,
   "metadata": {},
   "outputs": [
    {
     "output_type": "stream",
     "name": "stdout",
     "text": "10.0\n10\n10\n11.0\n11\n10\n"
    }
   ],
   "source": [
    "import numpy as np\n",
    "from math import *\n",
    "\n",
    "print(np.floor(10.5))\n",
    "print(floor(10.5))\n",
    "print(round(10.5))\n",
    "print(np.ceil(10.1))\n",
    "print(ceil(10.5))\n",
    "print(round(10.1))"
   ]
  },
  {
   "cell_type": "code",
   "execution_count": null,
   "metadata": {},
   "outputs": [],
   "source": []
  }
 ]
}