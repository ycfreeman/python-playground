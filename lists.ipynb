{
 "nbformat": 4,
 "nbformat_minor": 2,
 "metadata": {
  "language_info": {
   "name": "python",
   "codemirror_mode": {
    "name": "ipython",
    "version": 3
   },
   "version": "3.7.6-final"
  },
  "orig_nbformat": 2,
  "file_extension": ".py",
  "mimetype": "text/x-python",
  "name": "python",
  "npconvert_exporter": "python",
  "pygments_lexer": "ipython3",
  "version": 3,
  "kernelspec": {
   "name": "python3",
   "display_name": "Python 3"
  }
 },
 "cells": [
  {
   "cell_type": "code",
   "execution_count": null,
   "metadata": {},
   "outputs": [],
   "source": [
    "a = [1,2] + [2,3]\n",
    "b = a.copy()\n",
    "b.extend([2,3])\n",
    "print(a)\n",
    "print(b)"
   ]
  },
  {
   "cell_type": "code",
   "execution_count": 24,
   "metadata": {},
   "outputs": [
    {
     "output_type": "stream",
     "name": "stdout",
     "text": "[1, 2]\n[1, 2, 2, 3, 4]\n[5, 1, 2, 2, 3, 4]\n[5, 1, 2, 2, 3, 4]\n3\n[5, 1, 2]\n[1, 2, 2, 3, 4]\n"
    }
   ],
   "source": [
    "a = [1,2] # array\n",
    "print(a)\n",
    "a.append(2)\n",
    "a.append(3)\n",
    "a.append(4)\n",
    "print(a)\n",
    "a.insert(0, 5)\n",
    "print(a)\n",
    "print(len(a))\n",
    "print(a[4])\n",
    "print(a[0:3])\n",
    "a.remove(2)\n",
    "a.remove(2)\n",
    "print(a)\n",
    "del a[0]\n",
    "print(a)"
   ]
  },
  {
   "cell_type": "code",
   "execution_count": 2,
   "metadata": {},
   "outputs": [
    {
     "output_type": "stream",
     "name": "stdout",
     "text": "dog\n['apple', 'boy', 'cat']\n"
    }
   ],
   "source": [
    "a = [\"apple\", \"boy\", \"cat\", \"dog\"]\n",
    "b = a.pop() # remove last element from list and return it\n",
    "\n",
    "print(b)\n",
    "print(a)"
   ]
  },
  {
   "cell_type": "code",
   "execution_count": 6,
   "metadata": {},
   "outputs": [
    {
     "output_type": "stream",
     "name": "stdout",
     "text": "dog\n['apple', 'boy', 'cat', 'dog']\n['apple', 'boy', 'cat']\n"
    }
   ],
   "source": [
    "a = [\"apple\", \"boy\", \"cat\", \"dog\"]\n",
    "a2 = a.copy() # clone\n",
    "b = a2.pop()\n",
    "\n",
    "print(b)\n",
    "print(a)\n",
    "print(a2)"
   ]
  },
  {
   "cell_type": "code",
   "execution_count": 7,
   "metadata": {},
   "outputs": [
    {
     "output_type": "stream",
     "name": "stdout",
     "text": "dog\n['apple', 'boy', 'cat']\n['apple', 'boy', 'cat']\n"
    }
   ],
   "source": [
    "a = [\"apple\", \"boy\", \"cat\", \"dog\"]\n",
    "a2 = a # reference\n",
    "b = a2.pop()\n",
    "\n",
    "print(b)\n",
    "print(a)\n",
    "print(a2)"
   ]
  },
  {
   "cell_type": "code",
   "execution_count": 8,
   "metadata": {},
   "outputs": [
    {
     "output_type": "stream",
     "name": "stdout",
     "text": "1\n"
    }
   ],
   "source": [
    "a = [\"apple\", \"boy\", \"cat\", \"dog\"]\n",
    "\n",
    "print(a.index(\"boy\"))"
   ]
  },
  {
   "cell_type": "code",
   "execution_count": 13,
   "metadata": {},
   "outputs": [
    {
     "output_type": "stream",
     "name": "stdout",
     "text": "boy\ncat\n['boy']\n['boy', 'cat', 'dog']\n"
    }
   ],
   "source": [
    "a = [\"apple\", \"boy\", \"cat\", \"dog\"]\n",
    "\n",
    "print(a[1]) # 2nd from first\n",
    "print(a[-2]) # 2nd from last\n",
    "print(a[1:2])\n",
    "print(a[1:])"
   ]
  },
  {
   "cell_type": "code",
   "execution_count": 23,
   "metadata": {},
   "outputs": [
    {
     "output_type": "stream",
     "name": "stdout",
     "text": "[2, 4, 30, 100]\n['4', '30', '2', '100']\n[100, 30, 4, 2]\n4\n"
    }
   ],
   "source": [
    "a = [100, 2, 30, 4]\n",
    "b = [\"100\",\"2\",\"30\",\"4\"]\n",
    "a.sort()\n",
    "print(a)\n",
    "b.sort()\n",
    "b.reverse()\n",
    "print(b)\n",
    "a.reverse()\n",
    "print(a)\n",
    "print(len(a))\n",
    ""
   ]
  },
  {
   "cell_type": "code",
   "execution_count": null,
   "metadata": {},
   "outputs": [],
   "source": [
    "a = [1, \"2\", 3.3, True]\n",
    "print(a)\n",
    "\n",
    "for b in a: # loop\n",
    "    print(type(b))\n",
    "print(a)"
   ]
  }
 ]
}