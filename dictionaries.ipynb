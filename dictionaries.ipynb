{
 "cells": [
  {
   "cell_type": "code",
   "execution_count": 3,
   "metadata": {},
   "outputs": [
    {
     "output_type": "stream",
     "name": "stdout",
     "text": "{True: 1, '2': 2, '3': '3'}\n"
    }
   ],
   "source": [
    "dict1 = {\n",
    "    True : 1,\n",
    "    \"2\": 2,\n",
    "    \"3\": \"3\"\n",
    "}\n",
    "\n",
    "print(dict1)"
   ]
  },
  {
   "cell_type": "code",
   "execution_count": 12,
   "metadata": {},
   "outputs": [
    {
     "output_type": "stream",
     "name": "stdout",
     "text": "True: 1\n2: 2\n3: 3\n1\n2\n3\n"
    }
   ],
   "source": [
    "dict1 = {\n",
    "    True : 1,\n",
    "    \"2\": 2,\n",
    "    \"3\": \"3\"\n",
    "}\n",
    "\n",
    "for x in dict1:\n",
    "    key = x\n",
    "    value = dict1[x]\n",
    "    print(str(key) + \": \" + str(value))\n",
    "\n",
    "for x in dict1.values():\n",
    "    print(x)\n"
   ]
  },
  {
   "cell_type": "code",
   "execution_count": null,
   "metadata": {},
   "outputs": [],
   "source": []
  }
 ],
 "metadata": {
  "language_info": {
   "name": "python",
   "codemirror_mode": {
    "name": "ipython",
    "version": 3
   },
   "version": "3.7.6-final"
  },
  "orig_nbformat": 2,
  "file_extension": ".py",
  "mimetype": "text/x-python",
  "name": "python",
  "npconvert_exporter": "python",
  "pygments_lexer": "ipython3",
  "version": 3,
  "kernelspec": {
   "name": "python3",
   "display_name": "Python 3"
  }
 },
 "nbformat": 4,
 "nbformat_minor": 2
}