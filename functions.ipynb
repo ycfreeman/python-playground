{
 "nbformat": 4,
 "nbformat_minor": 2,
 "metadata": {
  "language_info": {
   "name": "python",
   "codemirror_mode": {
    "name": "ipython",
    "version": 3
   },
   "version": "3.7.6-final"
  },
  "orig_nbformat": 2,
  "file_extension": ".py",
  "mimetype": "text/x-python",
  "name": "python",
  "npconvert_exporter": "python",
  "pygments_lexer": "ipython3",
  "version": 3,
  "kernelspec": {
   "name": "python3",
   "display_name": "Python 3"
  }
 },
 "cells": [
  {
   "cell_type": "code",
   "execution_count": 1,
   "metadata": {},
   "outputs": [
    {
     "output_type": "stream",
     "name": "stdout",
     "text": "not hi\nhi\nhi\n"
    }
   ],
   "source": [
    "def say_hi():\n",
    "    print(\"Hello User\")\n",
    "    print(\"hi\")\n",
    "# print(\"not hi\")\n",
    "# say_hi()"
   ]
  },
  {
   "cell_type": "code",
   "execution_count": 3,
   "metadata": {},
   "outputs": [
    {
     "output_type": "stream",
     "name": "stdout",
     "text": "Hello Mike, you are 35\nHello Steve, you are 70\n"
    }
   ],
   "source": [
    "def say_hi(name, age):\n",
    "    print(\"Hello \"+ name + \", you are \"+ str(age))\n",
    "\n",
    "say_hi(\"Mike\", 35)\n",
    "say_hi(\"Steve\", 70)"
   ]
  },
  {
   "cell_type": "code",
   "execution_count": 8,
   "metadata": {},
   "outputs": [
    {
     "output_type": "stream",
     "name": "stdout",
     "text": "64\n"
    }
   ],
   "source": [
    "def cube(num):\n",
    "    return num ** 3\n",
    "\n",
    "result = cube(4)\n",
    "print(result)"
   ]
  },
  {
   "cell_type": "code",
   "execution_count": null,
   "metadata": {},
   "outputs": [],
   "source": []
  },
  {
   "cell_type": "code",
   "execution_count": null,
   "metadata": {},
   "outputs": [],
   "source": []
  },
  {
   "cell_type": "code",
   "execution_count": null,
   "metadata": {},
   "outputs": [],
   "source": []
  }
 ]
}